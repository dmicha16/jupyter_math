{
 "cells": [
  {
   "cell_type": "markdown",
   "metadata": {},
   "source": [
    "# Welcome to a convex optimization jupyter notebook with cvxpy!\n",
    "Welcome to the python version of the matrix homework using none other than cvxpy and jupyter notebooks. CVX for Matlab is a well knonw and very well used libary, but as it turns out there is a python layer already written for CVX by the same people at Standford from Steven Boyd's group.\n",
    "\n",
    "https://www.cvxpy.org/\n",
    "\n",
    "The purpose of this notebook is to demonstrate the capabilites of pyhton and to give a small example on how you could start working on your on optimization problems in python.\n",
    "\n",
    "You can already see that some of the cells below contain, not just text but also latex equations, this way it's very simple to create nice reports (or notebooks) to share with others without having to install anything.\n",
    "\n",
    "This notebookwas created by David Michalik, student of AAU, 2019 September.\n",
    "\n",
    "https://github.com/dmicha16/jupyter_math\n",
    "\n",
    "Enjoy!"
   ]
  },
  {
   "cell_type": "code",
   "execution_count": 58,
   "metadata": {
    "pycharm": {
     "is_executing": false
    }
   },
   "outputs": [],
   "source": [
    "import cvxpy as cp"
   ]
  },
  {
   "cell_type": "markdown",
   "metadata": {},
   "source": [
    "# Theoritical background\n",
    "\n",
    "The assignment consists of finding the minimizers, minima, and Karush-Kuhn-Tucker\n",
    "multipliers 6 different constrained optimization problems by the means of CVX.\n",
    "The Karush-Kuhn-Tucker theorem gives a set of necessary conditions for points to be\n",
    "function minimizers. In the case of the function being convex, the equality constrains being\n",
    "affine linear (that is in the form of $ A(x) = Ax + b $), and $ −C $ (the opposite of the inequality\n",
    "constrains) being convex, the Karush-Kuhn-Tucker conditions become also sufficient and\n",
    "can therefore be used to solve the minimization problem directly. The main advantage\n",
    "of the Karush-Kuhn-Tucker theorem is that it relates constrained optimization problems\n",
    "with equivalent unconstrained optimization problems by the means of the Lagrange (or\n",
    "Karush-Kuhn-Tucker) multipliers $ \\lambda$ and $\\mu $."
   ]
  },
  {
   "cell_type": "markdown",
   "metadata": {},
   "source": [
    "## Important difference with Lagrangian Multiplier in equality constraints\n",
    "\n",
    "It is important to note here that CVXPY uses a different definition of the Lagrangian Multipliers in the context of equality constraints compared to CVX in Matlab. \n",
    "\n",
    "Namely:\n",
    "\n",
    "\n",
    "\\begin{equation}\n",
    "    \\nabla L(x) = \\nabla(f) + \\nu_1(x_1) + \\nu_2(x_2)\n",
    "\\end{equation}\n",
    "\n",
    "As a result of this, the lambdas for equality constraints will be of different sign, ie.: 2 --> -2, and -2 --> 2."
   ]
  },
  {
   "cell_type": "markdown",
   "metadata": {},
   "source": [
    "# Exercise 6.1\n",
    "\n",
    "Find the minimizers, minima, and Karush-Kuhn-Tucker multipliers of the following\n",
    "problem:\n",
    "\n",
    "$$ \\begin{equation}\n",
    "    min f(x)=x_1^2 + x_2 + 4 \\text{ s.t. }\n",
    "    \\begin{cases}\n",
    "        c_1(x) = -x_1^2 - (x_2 + 4)^2 + 16 \\geq 0\\\\\n",
    "        c_2(x) = x_1 - x_2 - 6 \\geq 0\\\\\n",
    "    \\end{cases}\n",
    "\\end{equation} $$"
   ]
  },
  {
   "cell_type": "markdown",
   "metadata": {},
   "source": [
    "## Setting up the optimzation problem:"
   ]
  },
  {
   "cell_type": "markdown",
   "metadata": {},
   "source": [
    "- There are two variables x_1 and x_2, create the variables using cp.Variable()\n",
    "- Set up the objective function and its constraints\n",
    "- Pass the objective and contraints, and then solve the problem by calling .solve()"
   ]
  },
  {
   "cell_type": "code",
   "execution_count": 59,
   "metadata": {
    "pycharm": {
     "is_executing": false
    }
   },
   "outputs": [
    {
     "name": "stdout",
     "output_type": "stream",
     "text": [
      "Optimval value: -3.9999999995798703\n"
     ]
    }
   ],
   "source": [
    "x_1 = cp.Variable()\n",
    "x_2 = cp.Variable()\n",
    "\n",
    "\n",
    "objective = cp.Minimize(x_1**2 + x_2 + 4)\n",
    "constraints = [-x_1**2 - (x_2 + 4)**2 + 16 >= 0,\n",
    "                x_1 - x_2 - 6 >= 0]\n",
    "\n",
    "prob = cp.Problem(objective, constraints)\n",
    "print(\"Optimval value:\", prob.solve())"
   ]
  },
  {
   "cell_type": "markdown",
   "metadata": {},
   "source": [
    "From the inequality constrains we can see that the region where we are asked to minimize the function is the intersection between the half plane defined by $c_2$, and a circle with center in $(0, -4)$ and radius $4$. \\textit{CVX} yields the following solutions:"
   ]
  },
  {
   "cell_type": "markdown",
   "metadata": {},
   "source": [
    "## Results:"
   ]
  },
  {
   "cell_type": "code",
   "execution_count": 60,
   "metadata": {
    "pycharm": {
     "is_executing": false
    }
   },
   "outputs": [
    {
     "name": "stdout",
     "output_type": "stream",
     "text": [
      "Optimization status: optimal\n",
      "Optimal value: -3.9999999995798703\n",
      "Optimal var: 1.8777232536913758e-06, -7.999999999044399\n",
      "Lagrange Multipliers: 0.12500429461266355, 2.0860611952109354e-09\n"
     ]
    }
   ],
   "source": [
    "print(f\"Optimization status: {prob.status}\")\n",
    "print(f\"Optimal value: {prob.value}\")\n",
    "print(f\"Optimal var: {x_1.value}, {x_2.value}\")\n",
    "\n",
    "print(f\"Lagrange Multipliers: {constraints[0].dual_value}, {constraints[1].dual_value}\")"
   ]
  },
  {
   "cell_type": "markdown",
   "metadata": {},
   "source": [
    "### Interpretation of results:"
   ]
  },
  {
   "cell_type": "markdown",
   "metadata": {},
   "source": [
    "The second multiplier $\\mu_2$ is $0$ and the evaluation of $c_2(x)$ at the minimizer yields a positive number, implying that the constraint $c_2(x)$ is inactive. However, it is important to note that $\\mu_1$ is positive. Therefore, as described in \\fullref{sec:theory}, its corresponding constraint $c_1(x)$ has to be equal to $0$ when evaluated at the minimizer $(0, -8)$ in order to satisfy the necessary condition $C(x)^T \\mu = 0$. The following equation proves that."
   ]
  },
  {
   "cell_type": "markdown",
   "metadata": {},
   "source": [
    "# Exercise 6.3\n",
    "\n",
    "Find the minimizers, minima, and Karush-Kuhn-Tucker multipliers of the following problem:\n",
    "\n",
    "$$ \\begin{equation}\n",
    "    min f(x) = \\frac{1}{4}(x_1^2 + 4x_2^2 - 4(3x_1 + 8x_2) + 100)\\text{ s.t. }\n",
    "    \\begin{cases}\n",
    "        a_1(x) = x_1 - 2 = 0\\\\\n",
    "        c_1(x) = x_2 \\geq 0\\\\\n",
    "    \\end{cases}\n",
    "\\end{equation} $$\n"
   ]
  },
  {
   "cell_type": "markdown",
   "metadata": {},
   "source": [
    "## Setting up the optimzation problem:"
   ]
  },
  {
   "cell_type": "markdown",
   "metadata": {},
   "source": [
    "- There are two variables x_1 and x_2, create the variables using cp.Variable()\n",
    "- Set up the objective function and its constraints\n",
    "- Pass the objective and contraints, and then solve the problem by calling .solve()"
   ]
  },
  {
   "cell_type": "code",
   "execution_count": 77,
   "metadata": {
    "pycharm": {
     "is_executing": false
    }
   },
   "outputs": [
    {
     "name": "stdout",
     "output_type": "stream",
     "text": [
      "Optimval value: 3.9999999999999964\n"
     ]
    }
   ],
   "source": [
    "x_1 = cp.Variable()\n",
    "x_2 = cp.Variable()\n",
    "\n",
    "obj = cp.Minimize(1/4*(x_1**2 + 4*x_2**2 - 4*(3*x_1 + 8*x_2) + 100))\n",
    "constraints = [x_1 - 2 == 0, x_2 >= 0]\n",
    "\n",
    "prob = cp.Problem(obj, constraints)\n",
    "\n",
    "prob.solve()\n",
    "print(\"Optimval value:\", prob.solve())"
   ]
  },
  {
   "cell_type": "markdown",
   "metadata": {},
   "source": [
    "The equality constrain limits the region to a  straight line parallel the the $X_2$-$axis$, while the inequality constrain defines the half plane consisting in the $1^{st}$ and $2^{nd}$ quadrants. This is in fact limiting the minimizer region to the half line going from 0 infinity parallel to the $X_2$-$axis$ with a distance of 2. \\textit{CVX} yields the following solutions:"
   ]
  },
  {
   "cell_type": "markdown",
   "metadata": {},
   "source": [
    "## Results:"
   ]
  },
  {
   "cell_type": "code",
   "execution_count": 78,
   "metadata": {
    "pycharm": {
     "is_executing": false
    }
   },
   "outputs": [
    {
     "name": "stdout",
     "output_type": "stream",
     "text": [
      "Optimization status: optimal\n",
      "Optimal value: 3.9999999999999964\n",
      "Optimal var: 2.0, 4.000000000000001\n",
      "Lagrange Multipliers: 1.9999999999999982, 0.0\n"
     ]
    }
   ],
   "source": [
    "print(f\"Optimization status: {prob.status}\")\n",
    "print(f\"Optimal value: {prob.value}\")\n",
    "print(f\"Optimal var: {x_1.value}, {x_2.value}\")\n",
    "\n",
    "print(f\"Lagrange Multipliers: {constraints[0].dual_value}, {constraints[1].dual_value}\")"
   ]
  },
  {
   "cell_type": "markdown",
   "metadata": {},
   "source": [
    "### Interpretation of results:"
   ]
  },
  {
   "cell_type": "markdown",
   "metadata": {},
   "source": [
    "Since the multiplier $\\mu$ is 0, the necessary condition $C(x)^T \\mu = 0$ is satisfied. The inequality constraint $c_1(x)$ is inactive, because if evaluated at the minimizer, it does not yield a zero. "
   ]
  },
  {
   "cell_type": "markdown",
   "metadata": {},
   "source": [
    "# Exercise 8.1 c"
   ]
  },
  {
   "cell_type": "markdown",
   "metadata": {},
   "source": [
    "Find the minimizers, minima, and Karush-Kuhn-Tucker multipliers of the following problem:\n",
    "\n",
    "$$\n",
    "\\begin{equation}\n",
    "    min f(x) = x_1^2 + x_2^2 + 5\\text{ s.t. }\n",
    "    \\begin{cases}\n",
    "        a_1(x) = x_1 - x_2 + 2 = 0\\\\\n",
    "        a_2(x) = 3x_1 + 3x_2 + 3 = 0\\\\\n",
    "    \\end{cases}\n",
    "\\end{equation}\n",
    "$$"
   ]
  },
  {
   "cell_type": "code",
   "execution_count": 63,
   "metadata": {},
   "outputs": [],
   "source": [
    "x_1 = cp.Variable()\n",
    "x_2 = cp.Variable()"
   ]
  },
  {
   "cell_type": "code",
   "execution_count": 64,
   "metadata": {},
   "outputs": [
    {
     "data": {
      "text/plain": [
       "7.500000000000001"
      ]
     },
     "execution_count": 64,
     "metadata": {},
     "output_type": "execute_result"
    }
   ],
   "source": [
    "obj = cp.Minimize(x_1**2 + x_2**2 + 5)\n",
    "const = [x_1 - x_2 + 2 == 0,\n",
    "         3*x_1 + 3*x_2 + 3 == 0]\n",
    "\n",
    "prob = cp.Problem(obj, const)\n",
    "\n",
    "prob.solve()"
   ]
  },
  {
   "cell_type": "code",
   "execution_count": 65,
   "metadata": {},
   "outputs": [
    {
     "name": "stdout",
     "output_type": "stream",
     "text": [
      "status: optimal\n",
      "optimal value 7.500000000000001\n",
      "optimal var -1.5000000000000002 0.4999999999999999\n",
      "Lagrange Multipliers: 1.9999999999999993, 0.33333333333333337\n"
     ]
    }
   ],
   "source": [
    "print(\"status:\", prob.status)\n",
    "print(\"optimal value\", prob.value)\n",
    "print(\"optimal var\", x_1.value, x_2.value)\n",
    "print(f\"Lagrange Multipliers: {const[0].dual_value}, {const[1].dual_value}\")"
   ]
  },
  {
   "cell_type": "markdown",
   "metadata": {},
   "source": [
    "# Exercise 8.1d"
   ]
  },
  {
   "cell_type": "markdown",
   "metadata": {},
   "source": [
    "Find the minimizers, minima, and \\textit{Karush-Kuhn-Tucker} multipliers of the following problem:\n",
    "\n",
    "\\begin{equation}\n",
    "    min f(x) = x_1^2 + x_2^2 + 5\\text{ s.t. }\n",
    "    \\begin{cases}\n",
    "        c_1(x) = x_1 - x_2 + 2 \\geq 0\\\\\n",
    "        c_2(x) = 3x_1 + 3x_2 + 3 \\geq 0\\\\\n",
    "    \\end{cases}\n",
    "\\end{equation}"
   ]
  },
  {
   "cell_type": "markdown",
   "metadata": {},
   "source": [
    "# Exercise 8.1e"
   ]
  },
  {
   "cell_type": "markdown",
   "metadata": {},
   "source": [
    "Find the minimizers, minima, and \\textit{Karush-Kuhn-Tucker} multipliers of the following problem:\n",
    "\n",
    "\\begin{equation}\n",
    "    min f(x) = x_1^2 + x_2^2 + 5\\text{ s.t. }\n",
    "    \\begin{cases}\n",
    "        a_1(x) = x_1 - x_2 + 2 = 0\\\\\n",
    "        c_1(x) = 3x_1 + 3x_2 + 3 \\geq 0\\\\\n",
    "    \\end{cases}\n",
    "\\end{equation}"
   ]
  },
  {
   "cell_type": "markdown",
   "metadata": {},
   "source": [
    "# Exercise 9.1"
   ]
  },
  {
   "cell_type": "markdown",
   "metadata": {},
   "source": [
    "# Conclusion"
   ]
  }
 ],
 "metadata": {
  "kernelspec": {
   "display_name": "Python [conda env:jupyter_math] *",
   "language": "python",
   "name": "conda-env-jupyter_math-py"
  },
  "language_info": {
   "codemirror_mode": {
    "name": "ipython",
    "version": 3
   },
   "file_extension": ".py",
   "mimetype": "text/x-python",
   "name": "python",
   "nbconvert_exporter": "python",
   "pygments_lexer": "ipython3",
   "version": "3.7.3"
  },
  "pycharm": {
   "stem_cell": {
    "cell_type": "raw",
    "metadata": {
     "collapsed": false
    },
    "source": []
   }
  }
 },
 "nbformat": 4,
 "nbformat_minor": 4
}
