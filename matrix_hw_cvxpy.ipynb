{
 "cells": [
  {
   "cell_type": "markdown",
   "metadata": {},
   "source": [
    "# Welcome\n",
    "Welcome to the python version of the matrix homework using none other than cvxpy and jupyter notebooks. CVX for Matlab is a well knonw and very well used libary, but as it turns out there nis a python layer already written for CVX by the same people at Standford from Steven Boyd's group."
   ]
  },
  {
   "cell_type": "code",
   "execution_count": 1,
   "metadata": {
    "pycharm": {
     "is_executing": false
    }
   },
   "outputs": [],
   "source": [
    "import cvxpy as cp\n",
    "import numpy as np"
   ]
  },
  {
   "cell_type": "markdown",
   "metadata": {},
   "source": [
    "# Theoritical background\n",
    "\n",
    "The assignment consists of finding the minimizers, minima, and Karush-Kuhn-Tucker\n",
    "multipliers 6 different constrained optimization problems by the means of CVX.\n",
    "The Karush-Kuhn-Tucker theorem gives a set of necessary conditions for points to be\n",
    "function minimizers. In the case of the function being convex, the equality constrains being\n",
    "affine linear (that is in the form of $ A(x) = Ax + b $), and $ −C $ (the opposite of the inequality\n",
    "constrains) being convex, the Karush-Kuhn-Tucker conditions become also sufficient and\n",
    "can therefore be used to solve the minimization problem directly. The main advantage\n",
    "of the Karush-Kuhn-Tucker theorem is that it relates constrained optimization problems\n",
    "with equivalent unconstrained optimization problems by the means of the Lagrange (or\n",
    "Karush-Kuhn-Tucker ) multipliers $ \\lambda$ and $\\mu $."
   ]
  },
  {
   "cell_type": "markdown",
   "metadata": {},
   "source": [
    "# Exercise 6.1\n",
    "\n",
    "Find the minimizers, minima, and Karush-Kuhn-Tucker multipliers of the following\n",
    "problem:\n",
    "\n",
    "$$ \\begin{equation}\n",
    "    min f(x)=x_1^2 + x_2 + 4 \\text{ s.t. }\n",
    "    \\begin{cases}\n",
    "        c_1(x) = -x_1^2 - (x_2 + 4)^2 + 16 \\geq 0\\\\\n",
    "        c_2(x) = x_1 - x_2 - 6 \\geq 0\\\\\n",
    "    \\end{cases}\n",
    "\\end{equation} $$"
   ]
  },
  {
   "cell_type": "markdown",
   "metadata": {},
   "source": [
    "There are two variables $x_1$ and $ x_2 $, create the variables using cp.Variable()"
   ]
  },
  {
   "cell_type": "code",
   "execution_count": 2,
   "metadata": {
    "pycharm": {
     "is_executing": false
    }
   },
   "outputs": [],
   "source": [
    "x_1 = cp.Variable()\n",
    "x_2 = cp.Variable()"
   ]
  },
  {
   "cell_type": "code",
   "execution_count": 3,
   "metadata": {
    "pycharm": {
     "is_executing": false
    }
   },
   "outputs": [],
   "source": [
    "objective = cp.Minimize(x_1**2 + x_2 + 4)\n",
    "constraints = [-x_1**2 - (x_2 + 4)**2 + 16 >= 0,\n",
    "                x_1 - x_2 - 6 >= 0]\n",
    "\n",
    "# Pass the objective and contraints\n",
    "prob = cp.Problem(objective, constraints)"
   ]
  },
  {
   "cell_type": "code",
   "execution_count": 4,
   "metadata": {
    "pycharm": {
     "is_executing": false
    }
   },
   "outputs": [
    {
     "data": {
      "text/plain": [
       "-3.9999999995798703"
      ]
     },
     "execution_count": 4,
     "metadata": {},
     "output_type": "execute_result"
    }
   ],
   "source": [
    "prob.solve()"
   ]
  },
  {
   "cell_type": "code",
   "execution_count": 5,
   "metadata": {
    "pycharm": {
     "is_executing": false
    }
   },
   "outputs": [
    {
     "name": "stdout",
     "output_type": "stream",
     "text": [
      "status: optimal\n",
      "optimal value -3.9999999995798703\n",
      "optimal var 1.8777232536913758e-06 -7.999999999044399\n",
      "Lagrange Multipliers:  0.12500429461266355 2.0860611952109354e-09\n"
     ]
    }
   ],
   "source": [
    "print(\"status:\", prob.status)\n",
    "print(\"optimal value\", prob.value)\n",
    "print(\"optimal var\", x_1.value, x_2.value)\n",
    "\n",
    "print(\"Lagrange Multipliers: \", constraints[0].dual_value, constraints[1].dual_value)"
   ]
  },
  {
   "cell_type": "markdown",
   "metadata": {},
   "source": [
    "# Exercise 6.3\n",
    "\n",
    "Find the minimizers, minima, and Karush-Kuhn-Tucker multipliers of the following problem:\n",
    "\n",
    "$$ \\begin{equation}\n",
    "    min f(x) = \\frac{1}{4}(x_1^2 + 4x_2^2 - 4(3x_1 + 8x_2) + 100)\\text{ s.t. }\n",
    "    \\begin{cases}\n",
    "        a_1(x) = x_1 - 2 = 0\\\\\n",
    "        c_1(x) = x_2 \\geq 0\\\\\n",
    "    \\end{cases}\n",
    "\\end{equation} $$\n"
   ]
  },
  {
   "cell_type": "code",
   "execution_count": 6,
   "metadata": {
    "pycharm": {
     "is_executing": false
    }
   },
   "outputs": [],
   "source": [
    "x_1 = cp.Variable()\n",
    "x_2 = cp.Variable()"
   ]
  },
  {
   "cell_type": "code",
   "execution_count": 7,
   "metadata": {
    "pycharm": {
     "is_executing": false
    }
   },
   "outputs": [],
   "source": [
    "obj = cp.Minimize(1/4*(x_1**2 + 4*x_2**2 - 4*(3*x_1 + 8*x_2) + 100))\n",
    "const = [x_1 - 2 == 0, x_2 >= 0]\n",
    "\n",
    "prob1 = cp.Problem(obj, const)"
   ]
  },
  {
   "cell_type": "code",
   "execution_count": 8,
   "metadata": {
    "pycharm": {
     "is_executing": false
    }
   },
   "outputs": [
    {
     "data": {
      "text/plain": [
       "'optimal'"
      ]
     },
     "execution_count": 8,
     "metadata": {},
     "output_type": "execute_result"
    }
   ],
   "source": [
    "prob1.solve()\n",
    "prob1.status"
   ]
  },
  {
   "cell_type": "code",
   "execution_count": 9,
   "metadata": {
    "pycharm": {
     "is_executing": false
    }
   },
   "outputs": [
    {
     "name": "stdout",
     "output_type": "stream",
     "text": [
      "status: optimal\n",
      "optimal value 3.9999999999999964\n",
      "optimal var 2.0 4.0\n",
      "Lagrange Multipliers: 1.9999999999999982, 0.0\n"
     ]
    }
   ],
   "source": [
    "print(\"status:\", prob1.status)\n",
    "print(\"optimal value\", prob1.value)\n",
    "print(\"optimal var\", x_1.value, x_2.value)\n",
    "print(f\"Lagrange Multipliers: {const[0].dual_value}, {const[1].dual_value}\")"
   ]
  }
 ],
 "metadata": {
  "kernelspec": {
   "display_name": "Python [conda env:jupyter_math] *",
   "language": "python",
   "name": "conda-env-jupyter_math-py"
  },
  "language_info": {
   "codemirror_mode": {
    "name": "ipython",
    "version": 3
   },
   "file_extension": ".py",
   "mimetype": "text/x-python",
   "name": "python",
   "nbconvert_exporter": "python",
   "pygments_lexer": "ipython3",
   "version": "3.7.3"
  },
  "pycharm": {
   "stem_cell": {
    "cell_type": "raw",
    "metadata": {
     "collapsed": false
    },
    "source": []
   }
  }
 },
 "nbformat": 4,
 "nbformat_minor": 4
}
