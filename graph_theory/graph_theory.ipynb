{
 "cells": [
  {
   "cell_type": "markdown",
   "metadata": {},
   "source": [
    "# Graph theory exercises"
   ]
  },
  {
   "cell_type": "code",
   "execution_count": 1,
   "metadata": {},
   "outputs": [],
   "source": [
    "import networkx as nx"
   ]
  },
  {
   "cell_type": "code",
   "execution_count": 186,
   "metadata": {},
   "outputs": [],
   "source": [
    "import matplotlib.pyplot as plt\n",
    "import numpy as np\n",
    "import pandas as pd\n",
    "import scipy as sp\n",
    "from scipy.sparse import csc_matrix"
   ]
  },
  {
   "cell_type": "code",
   "execution_count": 5,
   "metadata": {},
   "outputs": [],
   "source": [
    "%matplotlib inline"
   ]
  },
  {
   "cell_type": "markdown",
   "metadata": {},
   "source": [
    "## Exercise 1"
   ]
  },
  {
   "cell_type": "markdown",
   "metadata": {},
   "source": [
    "![title](images/graph.png)"
   ]
  },
  {
   "cell_type": "code",
   "execution_count": 309,
   "metadata": {},
   "outputs": [
    {
     "data": {
      "text/plain": [
       "0"
      ]
     },
     "execution_count": 309,
     "metadata": {},
     "output_type": "execute_result"
    }
   ],
   "source": [
    "G = nx.MultiDiGraph()\n",
    "\n",
    "G.add_nodes_from([1, 2, 3, 4, 5, 6], label=[\"V1\", \"V2\", \"V3\", \"V4\", \"V5\", \"V6\"])\n",
    "G.add_edge(1, 2, label=\"e1\")\n",
    "G.add_edge(2, 3, label=\"e2\")\n",
    "G.add_edge(1, 6, label=\"e3\")\n",
    "G.add_edge(2, 5, label=\"e4\")\n",
    "G.add_edge(3, 4, label=\"e5\")\n",
    "G.add_edge(3, 4, label=\"e6\")\n",
    "G.add_edge(5, 6, label=\"e7\")\n",
    "G.add_edge(4, 5, label=\"e8\")"
   ]
  },
  {
   "cell_type": "code",
   "execution_count": 301,
   "metadata": {},
   "outputs": [
    {
     "data": {
      "text/plain": [
       "8"
      ]
     },
     "execution_count": 301,
     "metadata": {},
     "output_type": "execute_result"
    }
   ],
   "source": [
    "G.number_of_edges()"
   ]
  },
  {
   "cell_type": "code",
   "execution_count": 336,
   "metadata": {},
   "outputs": [
    {
     "name": "stdout",
     "output_type": "stream",
     "text": [
      "from: 1, to: 2, name: e1\n",
      "from: 1, to: 6, name: e3\n",
      "from: 2, to: 3, name: e2\n",
      "from: 2, to: 5, name: e4\n",
      "from: 3, to: 4, name: e5\n",
      "from: 3, to: 4, name: e6\n",
      "from: 4, to: 5, name: e8\n",
      "from: 5, to: 6, name: e7\n"
     ]
    }
   ],
   "source": [
    "egde_labels_short = {}\n",
    "edge_labels_names = {}\n",
    "\n",
    "for (from_node, to_node, label) in G.edges.data('label'):\n",
    "    print(f\"from: {from_node}, to: {to_node}, name: {label}\")\n",
    "    egde_labels_short.update([((from_node, to_node), label)])"
   ]
  },
  {
   "cell_type": "code",
   "execution_count": 335,
   "metadata": {},
   "outputs": [
    {
     "data": {
      "text/plain": [
       "{(1, 2): 'e1',\n",
       " (1, 6): 'e3',\n",
       " (2, 3): 'e2',\n",
       " (2, 5): 'e4',\n",
       " (3, 4): 'e6',\n",
       " (4, 5): 'e8',\n",
       " (5, 6): 'e7'}"
      ]
     },
     "execution_count": 335,
     "metadata": {},
     "output_type": "execute_result"
    }
   ],
   "source": [
    "egde_labels_short"
   ]
  },
  {
   "cell_type": "code",
   "execution_count": 306,
   "metadata": {},
   "outputs": [
    {
     "data": {
      "image/png": "[encoded data removed]",
      "text/plain": [
       "<Figure size 432x288 with 1 Axes>"
      ]
     },
     "metadata": {},
     "output_type": "display_data"
    }
   ],
   "source": [
    "nx.draw(G, with_labels=True, font_weight='bold', pos=nx.bipartite_layout(G, nodes=([1, 2, 3]), center=([1,6]), align='horizontal', \n",
    "                                                                        aspect_ratio=200), label=\"123\")\n",
    "\n",
    "edge_label = nx.draw_networkx_edge_labels(G, pos=nx.bipartite_layout(G, nodes=([1, 2, 3]), center=([1,6]), align='horizontal', \n",
    "                                                                        aspect_ratio=200), edge_labels=egde_labels_short)"
   ]
  },
  {
   "cell_type": "markdown",
   "metadata": {},
   "source": [
    "## Ex1: incidence matrix\n",
    "\n",
    "In this configuration, the negative sign represents edges leaving\n",
    "\n",
    "rows = nodes, </b>\n",
    "columns = edges"
   ]
  },
  {
   "cell_type": "code",
   "execution_count": 314,
   "metadata": {},
   "outputs": [
    {
     "name": "stdout",
     "output_type": "stream",
     "text": [
      "[[-1. -1.  0.  0.  0.  0.  0.  0.]\n",
      " [ 1.  0. -1. -1.  0.  0.  0.  0.]\n",
      " [ 0.  0.  1.  0. -1. -1.  0.  0.]\n",
      " [ 0.  0.  0.  0.  1.  1. -1.  0.]\n",
      " [ 0.  0.  0.  1.  0.  0.  1. -1.]\n",
      " [ 0.  1.  0.  0.  0.  0.  0.  1.]]\n"
     ]
    }
   ],
   "source": [
    "incidence_mat = nx.incidence_matrix(G, oriented=True)\n",
    "\n",
    "incidence_df = pd.DataFrame(incidence_mat.todense())\n",
    "print(incidence_mat.todense())"
   ]
  },
  {
   "cell_type": "code",
   "execution_count": 345,
   "metadata": {},
   "outputs": [
    {
     "data": {
      "text/html": [
       "<div>\n",
       "<style scoped>\n",
       "    .dataframe tbody tr th:only-of-type {\n",
       "        vertical-align: middle;\n",
       "    }\n",
       "\n",
       "    .dataframe tbody tr th {\n",
       "        vertical-align: top;\n",
       "    }\n",
       "\n",
       "    .dataframe thead th {\n",
       "        text-align: right;\n",
       "    }\n",
       "</style>\n",
       "<table border=\"1\" class=\"dataframe\">\n",
       "  <thead>\n",
       "    <tr style=\"text-align: right;\">\n",
       "      <th></th>\n",
       "      <th>e1</th>\n",
       "      <th>e3</th>\n",
       "      <th>e2</th>\n",
       "      <th>e4</th>\n",
       "      <th>e5</th>\n",
       "      <th>e6</th>\n",
       "      <th>e8</th>\n",
       "      <th>e7</th>\n",
       "    </tr>\n",
       "  </thead>\n",
       "  <tbody>\n",
       "    <tr>\n",
       "      <th>V1</th>\n",
       "      <td>-1.0</td>\n",
       "      <td>-1.0</td>\n",
       "      <td>0.0</td>\n",
       "      <td>0.0</td>\n",
       "      <td>0.0</td>\n",
       "      <td>0.0</td>\n",
       "      <td>0.0</td>\n",
       "      <td>0.0</td>\n",
       "    </tr>\n",
       "    <tr>\n",
       "      <th>V2</th>\n",
       "      <td>1.0</td>\n",
       "      <td>0.0</td>\n",
       "      <td>-1.0</td>\n",
       "      <td>-1.0</td>\n",
       "      <td>0.0</td>\n",
       "      <td>0.0</td>\n",
       "      <td>0.0</td>\n",
       "      <td>0.0</td>\n",
       "    </tr>\n",
       "    <tr>\n",
       "      <th>V3</th>\n",
       "      <td>0.0</td>\n",
       "      <td>0.0</td>\n",
       "      <td>1.0</td>\n",
       "      <td>0.0</td>\n",
       "      <td>-1.0</td>\n",
       "      <td>-1.0</td>\n",
       "      <td>0.0</td>\n",
       "      <td>0.0</td>\n",
       "    </tr>\n",
       "    <tr>\n",
       "      <th>V4</th>\n",
       "      <td>0.0</td>\n",
       "      <td>0.0</td>\n",
       "      <td>0.0</td>\n",
       "      <td>0.0</td>\n",
       "      <td>1.0</td>\n",
       "      <td>1.0</td>\n",
       "      <td>-1.0</td>\n",
       "      <td>0.0</td>\n",
       "    </tr>\n",
       "    <tr>\n",
       "      <th>V5</th>\n",
       "      <td>0.0</td>\n",
       "      <td>0.0</td>\n",
       "      <td>0.0</td>\n",
       "      <td>1.0</td>\n",
       "      <td>0.0</td>\n",
       "      <td>0.0</td>\n",
       "      <td>1.0</td>\n",
       "      <td>-1.0</td>\n",
       "    </tr>\n",
       "    <tr>\n",
       "      <th>V6</th>\n",
       "      <td>0.0</td>\n",
       "      <td>1.0</td>\n",
       "      <td>0.0</td>\n",
       "      <td>0.0</td>\n",
       "      <td>0.0</td>\n",
       "      <td>0.0</td>\n",
       "      <td>0.0</td>\n",
       "      <td>1.0</td>\n",
       "    </tr>\n",
       "  </tbody>\n",
       "</table>\n",
       "</div>"
      ],
      "text/plain": [
       "     e1   e3   e2   e4   e5   e6   e8   e7\n",
       "V1 -1.0 -1.0  0.0  0.0  0.0  0.0  0.0  0.0\n",
       "V2  1.0  0.0 -1.0 -1.0  0.0  0.0  0.0  0.0\n",
       "V3  0.0  0.0  1.0  0.0 -1.0 -1.0  0.0  0.0\n",
       "V4  0.0  0.0  0.0  0.0  1.0  1.0 -1.0  0.0\n",
       "V5  0.0  0.0  0.0  1.0  0.0  0.0  1.0 -1.0\n",
       "V6  0.0  1.0  0.0  0.0  0.0  0.0  0.0  1.0"
      ]
     },
     "execution_count": 345,
     "metadata": {},
     "output_type": "execute_result"
    }
   ],
   "source": [
    "columns = list(egde_labels_short.values())\n",
    "columns.insert(4, \"e5\")\n",
    "incidence_df.columns = columns\n",
    "incidence_df.index = [\"V1\", \"V2\", \"V3\", \"V4\", \"V5\", \"V6\"]\n",
    "incidence_df"
   ]
  }
 ],
 "metadata": {
  "kernelspec": {
   "display_name": "Python [conda env:jupyter_math] *",
   "language": "python",
   "name": "conda-env-jupyter_math-py"
  },
  "language_info": {
   "codemirror_mode": {
    "name": "ipython",
    "version": 3
   },
   "file_extension": ".py",
   "mimetype": "text/x-python",
   "name": "python",
   "nbconvert_exporter": "python",
   "pygments_lexer": "ipython3",
   "version": "3.7.6"
  }
 },
 "nbformat": 4,
 "nbformat_minor": 4
}
