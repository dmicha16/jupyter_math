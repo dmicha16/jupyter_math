{
 "cells": [
  {
   "cell_type": "markdown",
   "metadata": {},
   "source": [
    "# Welcome to a convex optimization jupyter notebook with cvxpy!\n",
    "Welcome to the python version of the matrix computation & convex optimzation course homework using the wonders of python! Specifically, CVXPY and jupyter notebooks! CVX for Matlab is a well knonw and very well used libary, but as it turns out there is a python layer already written for CVX by the same people at Standford from Steven Boyd's group.\n",
    "\n",
    "https://www.cvxpy.org/\n",
    "\n",
    "The purpose of this notebook is to demonstrate the capabilites of python and to give a small example on how you could start working on your on optimization problems in python.\n",
    "\n",
    "You can already see that some of the cells below contain, not just text, but also latex equations! This way it's very simple to create nice reports (or notebooks) to share with others without having to install anything.\n",
    "\n",
    "This notebook was created by David Michalik, student of AAU, during 2019 September.\n",
    "\n",
    "https://github.com/dmicha16/jupyter_math\n",
    "\n",
    "Enjoy!"
   ]
  },
  {
   "cell_type": "code",
   "execution_count": 58,
   "metadata": {
    "pycharm": {
     "is_executing": false
    }
   },
   "outputs": [],
   "source": [
    "import cvxpy as cp"
   ]
  },
  {
   "cell_type": "markdown",
   "metadata": {},
   "source": [
    "# Theoritical background\n",
    "\n",
    "The assignment consists of finding the minimizers, minima, and Karush-Kuhn-Tucker\n",
    "multipliers of 6 different constrained optimization problems by the means of CVXPY.\n",
    "The Karush-Kuhn-Tucker theorem gives a set of necessary conditions for points to be\n",
    "function minimizers. In the case of the function being convex, the equality constrains being\n",
    "affine linear (that is in the form of $ A(x) = Ax + b $), and $ −C $ (the opposite of the inequality\n",
    "constrains) being convex, the Karush-Kuhn-Tucker conditions become also sufficient and\n",
    "can therefore be used to solve the minimization problem directly. The main advantage\n",
    "of the Karush-Kuhn-Tucker theorem is that it relates constrained optimization problems\n",
    "with equivalent unconstrained optimization problems by the means of the Lagrange (or\n",
    "Karush-Kuhn-Tucker) multipliers $ \\lambda$ and $\\mu $."
   ]
  },
  {
   "cell_type": "markdown",
   "metadata": {},
   "source": [
    "## Important difference with Lagrangian Multiplier in equality constraints\n",
    "Before getting into the exercises, it is important to note here that CVXPY uses a different definition of the Lagrangian Multipliers in the context of equality constraints compared to CVX in Matlab. This results in some inconsistency between the implementations, however, it's very easy to see the differences.\n",
    "\n",
    "Namely:\n",
    "\n",
    "\n",
    "\\begin{equation}\n",
    "    \\nabla L(x) = \\nabla(f) + \\nu_1(x_1) + \\nu_2(x_2)\n",
    "\\end{equation}\n",
    "\n",
    "As a result of this, the lambdas for equality constraints will be of different sign, ie.: 2 --> -2, and -2 --> 2. This definition is based upon the book written: https://web.stanford.edu/~boyd/cvxbook/, where in chapter 5, you can also find this definition. Basically this means that the equality constraints are solved against the negative of the gradient of f, whereas in your book it's the other way around. Hopefully, by this time you read this, it is clear. :)"
   ]
  },
  {
   "cell_type": "markdown",
   "metadata": {},
   "source": [
    "# Exercise 6.1\n",
    "\n",
    "Find the minimizers, minima, and Karush-Kuhn-Tucker multipliers of the following\n",
    "problem:\n",
    "\n",
    "$$ \\begin{equation}\n",
    "    min f(x)=x_1^2 + x_2 + 4 \\text{ s.t. }\n",
    "    \\begin{cases}\n",
    "        c_1(x) = -x_1^2 - (x_2 + 4)^2 + 16 \\geq 0\\\\\n",
    "        c_2(x) = x_1 - x_2 - 6 \\geq 0\\\\\n",
    "    \\end{cases}\n",
    "\\end{equation} $$"
   ]
  },
  {
   "cell_type": "markdown",
   "metadata": {},
   "source": [
    "## Setting up the optimzation problem:"
   ]
  },
  {
   "cell_type": "markdown",
   "metadata": {},
   "source": [
    "- There are two variables x_1 and x_2, create the variables using cp.Variable()\n",
    "- Set up the objective function and its constraints\n",
    "- Pass the objective and contraints, and then solve the problem by calling .solve()"
   ]
  },
  {
   "cell_type": "code",
   "execution_count": 83,
   "metadata": {
    "pycharm": {
     "is_executing": false
    }
   },
   "outputs": [
    {
     "name": "stdout",
     "output_type": "stream",
     "text": [
      "Optimal value: -3.9999999995798703\n"
     ]
    }
   ],
   "source": [
    "x_1 = cp.Variable()\n",
    "x_2 = cp.Variable()\n",
    "\n",
    "\n",
    "objective = cp.Minimize(x_1**2 + x_2 + 4)\n",
    "constraints = [-x_1**2 - (x_2 + 4)**2 + 16 >= 0,\n",
    "                x_1 - x_2 - 6 >= 0]\n",
    "\n",
    "prob = cp.Problem(objective, constraints)\n",
    "print(\"Optimal value:\", prob.solve())"
   ]
  },
  {
   "cell_type": "markdown",
   "metadata": {},
   "source": [
    "From the inequality constrains we can see that the region where we are asked to minimize the function is the intersection between the half plane defined by $c_2$, and a circle with center in $(0, -4)$ and radius $4$. CVXPY yields the following solutions:"
   ]
  },
  {
   "cell_type": "markdown",
   "metadata": {},
   "source": [
    "## Results:"
   ]
  },
  {
   "cell_type": "code",
   "execution_count": 60,
   "metadata": {
    "pycharm": {
     "is_executing": false
    }
   },
   "outputs": [
    {
     "name": "stdout",
     "output_type": "stream",
     "text": [
      "Optimization status: optimal\n",
      "Optimal value: -3.9999999995798703\n",
      "Optimal var: 1.8777232536913758e-06, -7.999999999044399\n",
      "Lagrange Multipliers: 0.12500429461266355, 2.0860611952109354e-09\n"
     ]
    }
   ],
   "source": [
    "print(f\"Optimization status: {prob.status}\")\n",
    "print(f\"Optimal value: {prob.value}\")\n",
    "print(f\"Optimal var: {x_1.value}, {x_2.value}\")\n",
    "\n",
    "print(f\"Lagrange Multipliers: {constraints[0].dual_value}, {constraints[1].dual_value}\")"
   ]
  },
  {
   "cell_type": "markdown",
   "metadata": {},
   "source": [
    "### Interpretation of results:"
   ]
  },
  {
   "cell_type": "markdown",
   "metadata": {},
   "source": [
    "The second multiplier $\\mu_2$ is $0$ and the evaluation of $c_2(x)$ at the minimizer yields a positive number, implying that the constraint $c_2(x)$ is inactive. Its corresponding constraint $c_1(x)$ has to be equal to $0$ when evaluated at the minimizer $(0, -8)$ in order to satisfy the necessary condition $C(x)^T \\mu = 0$."
   ]
  },
  {
   "cell_type": "markdown",
   "metadata": {},
   "source": [
    "# Exercise 6.3\n",
    "\n",
    "Find the minimizers, minima, and Karush-Kuhn-Tucker multipliers of the following problem:\n",
    "\n",
    "$$ \\begin{equation}\n",
    "    min f(x) = \\frac{1}{4}(x_1^2 + 4x_2^2 - 4(3x_1 + 8x_2) + 100)\\text{ s.t. }\n",
    "    \\begin{cases}\n",
    "        a_1(x) = x_1 - 2 = 0\\\\\n",
    "        c_1(x) = x_2 \\geq 0\\\\\n",
    "    \\end{cases}\n",
    "\\end{equation} $$\n"
   ]
  },
  {
   "cell_type": "markdown",
   "metadata": {},
   "source": [
    "## Setting up the optimzation problem:"
   ]
  },
  {
   "cell_type": "markdown",
   "metadata": {},
   "source": [
    "- There are two variables x_1 and x_2, create the variables using cp.Variable()\n",
    "- Set up the objective function and its constraints\n",
    "- Pass the objective and contraints, and then solve the problem by calling .solve()"
   ]
  },
  {
   "cell_type": "code",
   "execution_count": 77,
   "metadata": {
    "pycharm": {
     "is_executing": false
    }
   },
   "outputs": [
    {
     "name": "stdout",
     "output_type": "stream",
     "text": [
      "Optimval value: 3.9999999999999964\n"
     ]
    }
   ],
   "source": [
    "x_1 = cp.Variable()\n",
    "x_2 = cp.Variable()\n",
    "\n",
    "obj = cp.Minimize(1/4*(x_1**2 + 4*x_2**2 - 4*(3*x_1 + 8*x_2) + 100))\n",
    "constraints = [x_1 - 2 == 0, x_2 >= 0]\n",
    "\n",
    "prob = cp.Problem(obj, constraints)\n",
    "\n",
    "prob.solve()\n",
    "print(\"Optimal value:\", prob.solve())"
   ]
  },
  {
   "cell_type": "markdown",
   "metadata": {},
   "source": [
    "The equality constrain limits the region to a  straight line parallel the the $X_2$-$axis$, while the inequality constrain defines the half plane consisting in the $1^{st}$ and $2^{nd}$ quadrants. This is in fact limiting the minimizer region to the half line going from 0 infinity parallel to the $X_2$-$axis$ with a distance of 2. CVXPY yields the following solutions:"
   ]
  },
  {
   "cell_type": "markdown",
   "metadata": {},
   "source": [
    "## Results:"
   ]
  },
  {
   "cell_type": "code",
   "execution_count": 78,
   "metadata": {
    "pycharm": {
     "is_executing": false
    }
   },
   "outputs": [
    {
     "name": "stdout",
     "output_type": "stream",
     "text": [
      "Optimization status: optimal\n",
      "Optimal value: 3.9999999999999964\n",
      "Optimal var: 2.0, 4.000000000000001\n",
      "Lagrange Multipliers: 1.9999999999999982, 0.0\n"
     ]
    }
   ],
   "source": [
    "print(f\"Optimization status: {prob.status}\")\n",
    "print(f\"Optimal value: {prob.value}\")\n",
    "print(f\"Optimal var: {x_1.value}, {x_2.value}\")\n",
    "\n",
    "print(f\"Lagrange Multipliers: {constraints[0].dual_value}, {constraints[1].dual_value}\")"
   ]
  },
  {
   "cell_type": "markdown",
   "metadata": {},
   "source": [
    "### Interpretation of results:"
   ]
  },
  {
   "cell_type": "markdown",
   "metadata": {},
   "source": [
    "Since the multiplier $\\mu$ is 0, the necessary condition $C(x)^T \\mu = 0$ is satisfied. The inequality constraint $c_1(x)$ is inactive, because if evaluated at the minimizer, it does not yield a zero. "
   ]
  },
  {
   "cell_type": "markdown",
   "metadata": {},
   "source": [
    "# Exercise 8.1c"
   ]
  },
  {
   "cell_type": "markdown",
   "metadata": {},
   "source": [
    "Find the minimizers, minima, and Karush-Kuhn-Tucker multipliers of the following problem:\n",
    "\n",
    "$$\n",
    "\\begin{equation}\n",
    "    min f(x) = x_1^2 + x_2^2 + 5\\text{ s.t. }\n",
    "    \\begin{cases}\n",
    "        a_1(x) = x_1 - x_2 + 2 = 0\\\\\n",
    "        a_2(x) = 3x_1 + 3x_2 + 3 = 0\\\\\n",
    "    \\end{cases}\n",
    "\\end{equation}\n",
    "$$"
   ]
  },
  {
   "cell_type": "markdown",
   "metadata": {},
   "source": [
    "## Setting up the optimzation problem:"
   ]
  },
  {
   "cell_type": "markdown",
   "metadata": {},
   "source": [
    "- There are two variables x_1 and x_2, create the variables using cp.Variable()\n",
    "- Set up the objective function and its constraints\n",
    "- Pass the objective and contraints, and then solve the problem by calling .solve()"
   ]
  },
  {
   "cell_type": "code",
   "execution_count": 81,
   "metadata": {},
   "outputs": [
    {
     "name": "stdout",
     "output_type": "stream",
     "text": [
      "Optimval value: 7.4999999999999964\n"
     ]
    }
   ],
   "source": [
    "x_1 = cp.Variable()\n",
    "x_2 = cp.Variable()\n",
    "\n",
    "obj = cp.Minimize(x_1**2 + x_2**2 + 5)\n",
    "const = [x_1 - x_2 + 2 == 0,\n",
    "         3*x_1 + 3*x_2 + 3 == 0]\n",
    "\n",
    "prob = cp.Problem(obj, const)\n",
    "\n",
    "prob.solve()\n",
    "print(\"Optimal value:\", prob.solve())"
   ]
  },
  {
   "cell_type": "markdown",
   "metadata": {},
   "source": [
    "In this case, the equality constrains define to crossing straight lines. Since the minimizer is requiered to fulfil both conditions at the same time, the region for minimizing consists of only one point $(-1.5, 0.5)$, which is the point of intersection between the two lines. Since the function is $C2$, then the solution to the problem must be $(-1.5, 0.5)$. CVXPY yields the following solutions:"
   ]
  },
  {
   "cell_type": "markdown",
   "metadata": {},
   "source": [
    "## Results:"
   ]
  },
  {
   "cell_type": "code",
   "execution_count": 82,
   "metadata": {},
   "outputs": [
    {
     "name": "stdout",
     "output_type": "stream",
     "text": [
      "Optimization status: optimal\n",
      "Optimal value: 7.4999999999999964\n",
      "Optimal var: -1.4999999999999987, 0.5000000000000009\n",
      "Lagrange Multipliers: 1.9999999999999982, 0.0\n"
     ]
    }
   ],
   "source": [
    "print(f\"Optimization status: {prob.status}\")\n",
    "print(f\"Optimal value: {prob.value}\")\n",
    "print(f\"Optimal var: {x_1.value}, {x_2.value}\")\n",
    "\n",
    "print(f\"Lagrange Multipliers: {constraints[0].dual_value}, {constraints[1].dual_value}\")"
   ]
  },
  {
   "cell_type": "markdown",
   "metadata": {},
   "source": [
    "# Exercise 8.1d"
   ]
  },
  {
   "cell_type": "markdown",
   "metadata": {},
   "source": [
    "Find the minimizers, minima, and Karush-Kuhn-Tucker multipliers of the following problem:\n",
    "\n",
    "\\begin{equation}\n",
    "    min f(x) = x_1^2 + x_2^2 + 5\\text{ s.t. }\n",
    "    \\begin{cases}\n",
    "        c_1(x) = x_1 - x_2 + 2 \\geq 0\\\\\n",
    "        c_2(x) = 3x_1 + 3x_2 + 3 \\geq 0\\\\\n",
    "    \\end{cases}\n",
    "\\end{equation}"
   ]
  },
  {
   "cell_type": "markdown",
   "metadata": {},
   "source": [
    "## Setting up the optimzation problem:"
   ]
  },
  {
   "cell_type": "markdown",
   "metadata": {},
   "source": [
    "- There are two variables x_1 and x_2, create the variables using cp.Variable()\n",
    "- Set up the objective function and its constraints\n",
    "- Pass the objective and contraints, and then solve the problem by calling .solve()"
   ]
  },
  {
   "cell_type": "code",
   "execution_count": 89,
   "metadata": {},
   "outputs": [
    {
     "name": "stdout",
     "output_type": "stream",
     "text": [
      "Optimal value: 6.999999999999999\n"
     ]
    }
   ],
   "source": [
    "x_1 = cp.Variable()\n",
    "x_2 = cp.Variable()\n",
    "\n",
    "obj = cp.Minimize(x_1**2 + x_2**2 + 5)\n",
    "const = [x_1 - x_2 + 2 >= 0,\n",
    "         3*x_1 + 3*x_2 + 3 >= 0]\n",
    "\n",
    "prob = cp.Problem(obj, const)\n",
    "\n",
    "prob.solve()\n",
    "print(\"Optimal value:\", prob.solve())"
   ]
  },
  {
   "cell_type": "markdown",
   "metadata": {},
   "source": [
    "Since the global minimizer of the function $f$ is the origin, which is contained in the intersection of the two half planes defined by the constrains, then the minimum of the function in the region of interest is indeed the global minimum of the function $f$, which is $min f(x) = f(0, 0) = 5$. CVXPY yields the following solutions:"
   ]
  },
  {
   "cell_type": "markdown",
   "metadata": {},
   "source": [
    "## Results:"
   ]
  },
  {
   "cell_type": "code",
   "execution_count": 86,
   "metadata": {},
   "outputs": [
    {
     "name": "stdout",
     "output_type": "stream",
     "text": [
      "Optimization status: optimal\n",
      "Optimal value: 5.0\n",
      "Optimal var: 0.0, 0.0\n",
      "Lagrange Multipliers: 0.12500429461266355, 2.0860611952109354e-09\n"
     ]
    }
   ],
   "source": [
    "print(f\"Optimization status: {prob.status}\")\n",
    "print(f\"Optimal value: {prob.value}\")\n",
    "print(f\"Optimal var: {x_1.value}, {x_2.value}\")\n",
    "\n",
    "print(f\"Lagrange Multipliers: {constraints[0].dual_value}, {constraints[1].dual_value}\")"
   ]
  },
  {
   "cell_type": "markdown",
   "metadata": {},
   "source": [
    "## Interpretation of results:"
   ]
  },
  {
   "cell_type": "markdown",
   "metadata": {},
   "source": [
    "Evaluating both inequality constraints at the minimizer concludes that they are inactive. However, the necessary conditions are satisfied since the multipliers $\\mu$ are zero."
   ]
  },
  {
   "cell_type": "markdown",
   "metadata": {},
   "source": [
    "# Exercise 8.1e"
   ]
  },
  {
   "cell_type": "markdown",
   "metadata": {},
   "source": [
    "Find the minimizers, minima, and Karush-Kuhn-Tucker multipliers of the following problem:\n",
    "\n",
    "\\begin{equation}\n",
    "    min f(x) = x_1^2 + x_2^2 + 5\\text{ s.t. }\n",
    "    \\begin{cases}\n",
    "        a_1(x) = x_1 - x_2 + 2 = 0\\\\\n",
    "        c_1(x) = 3x_1 + 3x_2 + 3 \\geq 0\\\\\n",
    "    \\end{cases}\n",
    "\\end{equation}"
   ]
  },
  {
   "cell_type": "markdown",
   "metadata": {},
   "source": [
    "## Setting up the optimzation problem:"
   ]
  },
  {
   "cell_type": "markdown",
   "metadata": {},
   "source": [
    "- There are two variables x_1 and x_2, create the variables using cp.Variable()\n",
    "- Set up the objective function and its constraints\n",
    "- Pass the objective and contraints, and then solve the problem by calling .solve()"
   ]
  },
  {
   "cell_type": "code",
   "execution_count": 90,
   "metadata": {},
   "outputs": [
    {
     "name": "stdout",
     "output_type": "stream",
     "text": [
      "Optimal value: 6.999999999999999\n"
     ]
    }
   ],
   "source": [
    "x_1 = cp.Variable()\n",
    "x_2 = cp.Variable()\n",
    "\n",
    "obj = cp.Minimize(x_1**2 + x_2**2 + 5)\n",
    "const = [x_1 - x_2 + 2 == 0,\n",
    "         3*x_1 + 3*x_2 + 3 >= 0]\n",
    "\n",
    "prob = cp.Problem(obj, const)\n",
    "\n",
    "prob.solve()\n",
    "print(\"Optimal value:\", prob.solve())"
   ]
  },
  {
   "cell_type": "markdown",
   "metadata": {},
   "source": [
    "$c_1$ constrains the region of interest to a half plane, while $a_1$ constrains it a straight line with a slope of 1 and going through $(0, 2)$. Knowing that the global minimizer of the function is $(0, 0)$, then the solution to the problem must be the closest point to the origin that belongs to both the line defined by $a_1$ and the half plane defined by $c_1$. The closest point from the line to the origin would be the point of intersection between a line perpendicular to the line defined by $a_1$ that crosses the origin. In this case, that point is $(-1, 1)$, which also fulfils the inequality constrain and therefore must be the minimizer of $f$ in the region. CVXPY yields the following solutions:"
   ]
  },
  {
   "cell_type": "markdown",
   "metadata": {},
   "source": [
    "## Results:"
   ]
  },
  {
   "cell_type": "code",
   "execution_count": 91,
   "metadata": {},
   "outputs": [
    {
     "name": "stdout",
     "output_type": "stream",
     "text": [
      "Optimization status: optimal\n",
      "Optimal value: 6.999999999999999\n",
      "Optimal var: -0.9999999999999997, 1.0\n",
      "Lagrange Multipliers: 0.12500429461266355, 2.0860611952109354e-09\n"
     ]
    }
   ],
   "source": [
    "print(f\"Optimization status: {prob.status}\")\n",
    "print(f\"Optimal value: {prob.value}\")\n",
    "print(f\"Optimal var: {x_1.value}, {x_2.value}\")\n",
    "\n",
    "print(f\"Lagrange Multipliers: {constraints[0].dual_value}, {constraints[1].dual_value}\")"
   ]
  },
  {
   "cell_type": "markdown",
   "metadata": {},
   "source": [
    "### Interpretation of results:"
   ]
  },
  {
   "cell_type": "markdown",
   "metadata": {},
   "source": [
    "The multiplier of the inequality constraint $\\mu$ is 0, which implies that the constraint $c_1(x)$ is either inactive, or the minimizer to the unconstrained problem lies on its boundary. However, evaluated at the minimizer, $c_1(x)$ does not yield 0 and therefore is an inactive constraint."
   ]
  },
  {
   "cell_type": "markdown",
   "metadata": {},
   "source": [
    "# Exercise 9.1"
   ]
  },
  {
   "cell_type": "markdown",
   "metadata": {},
   "source": [
    "## Setting up the optimzation problem:"
   ]
  },
  {
   "cell_type": "markdown",
   "metadata": {},
   "source": [
    "- There are two variables x_1, x_2 and x_3, create the variables using cp.Variable()\n",
    "- Set up the objective function and its constraints\n",
    "- Pass the objective and contraints, and then solve the problem by calling .solve()"
   ]
  },
  {
   "cell_type": "code",
   "execution_count": 97,
   "metadata": {},
   "outputs": [
    {
     "name": "stdout",
     "output_type": "stream",
     "text": [
      "Optimal value: -1.999999999999981\n"
     ]
    }
   ],
   "source": [
    "x_1 = cp.Variable()\n",
    "x_2 = cp.Variable()\n",
    "x_3 = cp.Variable()\n",
    "\n",
    "obj = cp.Minimize(-x_1 - 2*x_2 + 3*x_3)\n",
    "const = [x_1 + x_2 + x_3 == 1,\n",
    "         x_1 >= 0,\n",
    "         x_2 >= 0,\n",
    "         x_3 >= 0]\n",
    "\n",
    "prob = cp.Problem(obj, const)\n",
    "\n",
    "prob.solve()\n",
    "print(\"Optimal value:\", prob.solve())"
   ]
  },
  {
   "cell_type": "markdown",
   "metadata": {},
   "source": [
    "This last exercise defined a 4 dimensional object and therefore to only spacial interpretation that can be given is in terms of region of interest. The inequality constrains constrain the region to the first octant, while the equality constrain defines a plane. CVXPY yields the following solutions:"
   ]
  },
  {
   "cell_type": "markdown",
   "metadata": {},
   "source": [
    "## Results:"
   ]
  },
  {
   "cell_type": "code",
   "execution_count": 98,
   "metadata": {},
   "outputs": [
    {
     "name": "stdout",
     "output_type": "stream",
     "text": [
      "Optimization status: optimal\n",
      "Optimal value: -1.999999999999981\n",
      "Optimal var: -1.5141639760520125e-15, 0.9999999999999982\n",
      "Lagrange Multipliers: 0.12500429461266355, 2.0860611952109354e-09\n"
     ]
    }
   ],
   "source": [
    "print(f\"Optimization status: {prob.status}\")\n",
    "print(f\"Optimal value: {prob.value}\")\n",
    "print(f\"Optimal var: {x_1.value}, {x_2.value}\")\n",
    "\n",
    "print(f\"Lagrange Multipliers: {constraints[0].dual_value}, {constraints[1].dual_value}\")"
   ]
  },
  {
   "cell_type": "markdown",
   "metadata": {},
   "source": [
    "### Interpretation of results:"
   ]
  },
  {
   "cell_type": "markdown",
   "metadata": {},
   "source": [
    "Evaluating the constraints at the minimizer, implies that $c_1(x)$ and $c_3(x)$ contain the optimal value to the unconstrained optimization problem, which makes those inequality constraints active. The inequality constraint $c_2(x)$ is inactive since the optimal value does not lie on its boundary or interior, and therefore its corresponding $\\mu_2$ is 0. "
   ]
  },
  {
   "cell_type": "markdown",
   "metadata": {},
   "source": [
    "# Conclusion\n",
    "\n",
    "Thanks and I hope you have gotten something new out of this notebook! If you have any questions regarding the code/documentation or anything related pyhton, don't hesitate to throw me an email at: dmicha16@student.aau.dk!\n",
    "\n",
    "Cheers!\n",
    "\n",
    "David Michalik\n",
    "\n",
    "2019"
   ]
  }
 ],
 "metadata": {
  "kernelspec": {
   "display_name": "Python [conda env:jupyter_math] *",
   "language": "python",
   "name": "conda-env-jupyter_math-py"
  },
  "language_info": {
   "codemirror_mode": {
    "name": "ipython",
    "version": 3
   },
   "file_extension": ".py",
   "mimetype": "text/x-python",
   "name": "python",
   "nbconvert_exporter": "python",
   "pygments_lexer": "ipython3",
   "version": "3.7.3"
  },
  "pycharm": {
   "stem_cell": {
    "cell_type": "raw",
    "metadata": {
     "collapsed": false
    },
    "source": []
   }
  }
 },
 "nbformat": 4,
 "nbformat_minor": 4
}
